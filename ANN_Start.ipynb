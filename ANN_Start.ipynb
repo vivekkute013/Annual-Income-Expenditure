{
  "nbformat": 4,
  "nbformat_minor": 0,
  "metadata": {
    "colab": {
      "provenance": [],
      "authorship_tag": "ABX9TyPPyBepWHvnpaNyXA7jtFUt",
      "include_colab_link": true
    },
    "kernelspec": {
      "name": "python3",
      "display_name": "Python 3"
    },
    "language_info": {
      "name": "python"
    }
  },
  "cells": [
    {
      "cell_type": "markdown",
      "metadata": {
        "id": "view-in-github",
        "colab_type": "text"
      },
      "source": [
        "<a href=\"https://colab.research.google.com/github/vivekkute013/Annual-Income-Expenditure/blob/main/ANN_Start.ipynb\" target=\"_parent\"><img src=\"https://colab.research.google.com/assets/colab-badge.svg\" alt=\"Open In Colab\"/></a>"
      ]
    },
    {
      "cell_type": "markdown",
      "source": [
        " ## ANN"
      ],
      "metadata": {
        "id": "yQWUJDWlr6rb"
      }
    },
    {
      "cell_type": "code",
      "source": [
        "\n",
        "# Creating ANN\n",
        "\n",
        "import pandas as pd\n",
        "import numpy as np\n",
        "import matplotlib.pyplot as plt\n",
        "import seaborn as sns"
      ],
      "metadata": {
        "id": "dcZHRjB8r8hV"
      },
      "execution_count": 87,
      "outputs": []
    },
    {
      "cell_type": "code",
      "source": [
        "data = pd.read_csv('https://raw.githubusercontent.com/krishnaik06/Complete-Deep-Learning/master/ANN/Churn_Modelling.csv')\n",
        "\n",
        "X = data.iloc[:, 3:13]\n",
        "Y = data.iloc[:,13]"
      ],
      "metadata": {
        "id": "BTueYNA2sBgj"
      },
      "execution_count": 88,
      "outputs": []
    },
    {
      "cell_type": "code",
      "source": [
        "X.shape"
      ],
      "metadata": {
        "colab": {
          "base_uri": "https://localhost:8080/"
        },
        "id": "7OABkDCbxr0U",
        "outputId": "5da10d0b-5006-4baf-952e-ca8754d11e5f"
      },
      "execution_count": 89,
      "outputs": [
        {
          "output_type": "execute_result",
          "data": {
            "text/plain": [
              "(10000, 10)"
            ]
          },
          "metadata": {},
          "execution_count": 89
        }
      ]
    },
    {
      "cell_type": "code",
      "source": [
        "Y.shape"
      ],
      "metadata": {
        "colab": {
          "base_uri": "https://localhost:8080/"
        },
        "id": "fK86gprjyX3a",
        "outputId": "a0010fb7-8da5-473e-ddb9-d244a17f40c8"
      },
      "execution_count": 106,
      "outputs": [
        {
          "output_type": "execute_result",
          "data": {
            "text/plain": [
              "(10000, 10)"
            ]
          },
          "metadata": {},
          "execution_count": 106
        }
      ]
    },
    {
      "cell_type": "code",
      "source": [
        "from sklearn.preprocessing import LabelEncoder\n",
        "LE = LabelEncoder()\n",
        "X['Geography'] = LE.fit_transform(X['Geography'])\n",
        "X['Gender'] = LE.fit_transform(X['Gender'])\n"
      ],
      "metadata": {
        "id": "qM5KbSWxsE0P"
      },
      "execution_count": 91,
      "outputs": []
    },
    {
      "cell_type": "code",
      "source": [
        "\n",
        "from sklearn.model_selection import train_test_split\n",
        "x_train, x_test, y_train, y_test = train_test_split(X,Y, test_size=0.2, random_state=2)\n"
      ],
      "metadata": {
        "id": "0fcusnFVsIMV"
      },
      "execution_count": 92,
      "outputs": []
    },
    {
      "cell_type": "code",
      "source": [
        "from sklearn.preprocessing import StandardScaler\n",
        "scalar = StandardScaler()\n",
        "x_train = scalar.fit_transform(x_train)\n",
        "x_test = scalar.transform(x_test)"
      ],
      "metadata": {
        "id": "nwojJhtysL64"
      },
      "execution_count": 93,
      "outputs": []
    },
    {
      "cell_type": "code",
      "source": [
        "import keras\n",
        "from keras.models import Sequential\n",
        "from keras.layers import Dense\n",
        "from keras.layers import LeakyReLU, PReLU, ELU\n",
        "from keras.layers import Dropout\n",
        "\n",
        "# Initializing the ANN\n",
        "classifier = Sequential()"
      ],
      "metadata": {
        "id": "aGorCS-jsOL9"
      },
      "execution_count": 94,
      "outputs": []
    },
    {
      "cell_type": "code",
      "source": [
        "# Adding input layer and First Hidden layer\n",
        "classifier.add(Dense(units=10, kernel_initializer='he_uniform', activation = 'relu', input_dim = 10))"
      ],
      "metadata": {
        "id": "nht3ja1wsQoY"
      },
      "execution_count": 95,
      "outputs": []
    },
    {
      "cell_type": "code",
      "source": [
        "# Adding the second hidden layer\n",
        "classifier.add(Dense(units = 10, kernel_initializer='he_uniform', activation = 'relu'))\n"
      ],
      "metadata": {
        "id": "P8YVMjGKsU1s"
      },
      "execution_count": 96,
      "outputs": []
    },
    {
      "cell_type": "code",
      "source": [
        "# Adding output layer\n",
        "classifier.add(Dense(units=1, kernel_initializer='glorot_uniform', activation = 'sigmoid'))\n"
      ],
      "metadata": {
        "id": "UsNlVevFsW-w"
      },
      "execution_count": 97,
      "outputs": []
    },
    {
      "cell_type": "code",
      "source": [
        "\n",
        "# Compiing the ANN\n",
        "classifier.compile(optimizer = 'Adamax', loss = 'binary_crossentropy', metrics = ['accuracy'])"
      ],
      "metadata": {
        "id": "omG9RS0vsZN6"
      },
      "execution_count": 98,
      "outputs": []
    },
    {
      "cell_type": "code",
      "source": [
        "# Fitting the ANN to the training set\n",
        "model_history = classifier.fit(x_train, y_train, validation_split = 0.33, batch_size = 10, epochs = 30)\n"
      ],
      "metadata": {
        "colab": {
          "base_uri": "https://localhost:8080/"
        },
        "id": "ZlqQ16pesd6d",
        "outputId": "3a693dc8-0a06-4947-ce6d-2b0be07c4b3c"
      },
      "execution_count": 99,
      "outputs": [
        {
          "output_type": "stream",
          "name": "stdout",
          "text": [
            "Epoch 1/30\n",
            "536/536 [==============================] - 2s 2ms/step - loss: 0.5447 - accuracy: 0.7639 - val_loss: 0.5009 - val_accuracy: 0.7902\n",
            "Epoch 2/30\n",
            "536/536 [==============================] - 1s 2ms/step - loss: 0.5002 - accuracy: 0.7850 - val_loss: 0.4726 - val_accuracy: 0.7978\n",
            "Epoch 3/30\n",
            "536/536 [==============================] - 1s 2ms/step - loss: 0.4794 - accuracy: 0.7918 - val_loss: 0.4577 - val_accuracy: 0.8065\n",
            "Epoch 4/30\n",
            "536/536 [==============================] - 1s 2ms/step - loss: 0.4670 - accuracy: 0.7975 - val_loss: 0.4473 - val_accuracy: 0.8092\n",
            "Epoch 5/30\n",
            "536/536 [==============================] - 1s 2ms/step - loss: 0.4583 - accuracy: 0.8011 - val_loss: 0.4406 - val_accuracy: 0.8129\n",
            "Epoch 6/30\n",
            "536/536 [==============================] - 1s 2ms/step - loss: 0.4520 - accuracy: 0.8026 - val_loss: 0.4342 - val_accuracy: 0.8152\n",
            "Epoch 7/30\n",
            "536/536 [==============================] - 1s 2ms/step - loss: 0.4466 - accuracy: 0.8048 - val_loss: 0.4293 - val_accuracy: 0.8175\n",
            "Epoch 8/30\n",
            "536/536 [==============================] - 1s 2ms/step - loss: 0.4420 - accuracy: 0.8069 - val_loss: 0.4248 - val_accuracy: 0.8164\n",
            "Epoch 9/30\n",
            "536/536 [==============================] - 2s 3ms/step - loss: 0.4377 - accuracy: 0.8080 - val_loss: 0.4210 - val_accuracy: 0.8194\n",
            "Epoch 10/30\n",
            "536/536 [==============================] - 1s 2ms/step - loss: 0.4338 - accuracy: 0.8104 - val_loss: 0.4176 - val_accuracy: 0.8209\n",
            "Epoch 11/30\n",
            "536/536 [==============================] - 1s 2ms/step - loss: 0.4299 - accuracy: 0.8119 - val_loss: 0.4142 - val_accuracy: 0.8239\n",
            "Epoch 12/30\n",
            "536/536 [==============================] - 1s 2ms/step - loss: 0.4262 - accuracy: 0.8160 - val_loss: 0.4115 - val_accuracy: 0.8236\n",
            "Epoch 13/30\n",
            "536/536 [==============================] - 1s 2ms/step - loss: 0.4226 - accuracy: 0.8188 - val_loss: 0.4077 - val_accuracy: 0.8266\n",
            "Epoch 14/30\n",
            "536/536 [==============================] - 1s 2ms/step - loss: 0.4192 - accuracy: 0.8209 - val_loss: 0.4044 - val_accuracy: 0.8262\n",
            "Epoch 15/30\n",
            "536/536 [==============================] - 1s 2ms/step - loss: 0.4158 - accuracy: 0.8225 - val_loss: 0.4013 - val_accuracy: 0.8285\n",
            "Epoch 16/30\n",
            "536/536 [==============================] - 1s 2ms/step - loss: 0.4125 - accuracy: 0.8252 - val_loss: 0.3986 - val_accuracy: 0.8285\n",
            "Epoch 17/30\n",
            "536/536 [==============================] - 1s 2ms/step - loss: 0.4093 - accuracy: 0.8255 - val_loss: 0.3956 - val_accuracy: 0.8300\n",
            "Epoch 18/30\n",
            "536/536 [==============================] - 1s 2ms/step - loss: 0.4060 - accuracy: 0.8278 - val_loss: 0.3928 - val_accuracy: 0.8338\n",
            "Epoch 19/30\n",
            "536/536 [==============================] - 1s 2ms/step - loss: 0.4026 - accuracy: 0.8281 - val_loss: 0.3901 - val_accuracy: 0.8353\n",
            "Epoch 20/30\n",
            "536/536 [==============================] - 1s 2ms/step - loss: 0.3995 - accuracy: 0.8306 - val_loss: 0.3874 - val_accuracy: 0.8372\n",
            "Epoch 21/30\n",
            "536/536 [==============================] - 1s 2ms/step - loss: 0.3963 - accuracy: 0.8309 - val_loss: 0.3847 - val_accuracy: 0.8398\n",
            "Epoch 22/30\n",
            "536/536 [==============================] - 1s 2ms/step - loss: 0.3931 - accuracy: 0.8322 - val_loss: 0.3819 - val_accuracy: 0.8432\n",
            "Epoch 23/30\n",
            "536/536 [==============================] - 1s 2ms/step - loss: 0.3902 - accuracy: 0.8337 - val_loss: 0.3795 - val_accuracy: 0.8448\n",
            "Epoch 24/30\n",
            "536/536 [==============================] - 1s 2ms/step - loss: 0.3872 - accuracy: 0.8352 - val_loss: 0.3766 - val_accuracy: 0.8448\n",
            "Epoch 25/30\n",
            "536/536 [==============================] - 1s 2ms/step - loss: 0.3845 - accuracy: 0.8358 - val_loss: 0.3752 - val_accuracy: 0.8463\n",
            "Epoch 26/30\n",
            "536/536 [==============================] - 1s 2ms/step - loss: 0.3822 - accuracy: 0.8373 - val_loss: 0.3720 - val_accuracy: 0.8470\n",
            "Epoch 27/30\n",
            "536/536 [==============================] - 1s 2ms/step - loss: 0.3799 - accuracy: 0.8384 - val_loss: 0.3701 - val_accuracy: 0.8485\n",
            "Epoch 28/30\n",
            "536/536 [==============================] - 1s 2ms/step - loss: 0.3775 - accuracy: 0.8401 - val_loss: 0.3681 - val_accuracy: 0.8504\n",
            "Epoch 29/30\n",
            "536/536 [==============================] - 1s 2ms/step - loss: 0.3753 - accuracy: 0.8408 - val_loss: 0.3661 - val_accuracy: 0.8504\n",
            "Epoch 30/30\n",
            "536/536 [==============================] - 1s 2ms/step - loss: 0.3730 - accuracy: 0.8408 - val_loss: 0.3645 - val_accuracy: 0.8493\n"
          ]
        }
      ]
    },
    {
      "cell_type": "code",
      "source": [
        "# Predicting the test set results\n",
        "\n",
        "y_pred = classifier.predict(x_test)\n",
        "y_pred = (y_pred > 0.5)"
      ],
      "metadata": {
        "colab": {
          "base_uri": "https://localhost:8080/"
        },
        "id": "7X8w4LXksgHX",
        "outputId": "07e74faa-e77d-4c9e-8671-b7549955ca7f"
      },
      "execution_count": 111,
      "outputs": [
        {
          "output_type": "stream",
          "name": "stdout",
          "text": [
            "63/63 [==============================] - 0s 1ms/step\n"
          ]
        }
      ]
    },
    {
      "cell_type": "code",
      "source": [
        "y_pred.shape"
      ],
      "metadata": {
        "colab": {
          "base_uri": "https://localhost:8080/"
        },
        "id": "PgtyFlGa0iNl",
        "outputId": "8e4b87c8-ec7a-459e-c3e6-6bf7aec0a97f"
      },
      "execution_count": 112,
      "outputs": [
        {
          "output_type": "execute_result",
          "data": {
            "text/plain": [
              "(2000, 1)"
            ]
          },
          "metadata": {},
          "execution_count": 112
        }
      ]
    },
    {
      "cell_type": "code",
      "source": [
        "from sklearn.metrics import accuracy_score\n",
        "score = accuracy_score(y_test, y_pred)\n",
        "print(score)"
      ],
      "metadata": {
        "colab": {
          "base_uri": "https://localhost:8080/"
        },
        "id": "NJUgqnPAwGZx",
        "outputId": "446dfe50-cab6-4778-96c1-cbe2cb525b7e"
      },
      "execution_count": 114,
      "outputs": [
        {
          "output_type": "stream",
          "name": "stdout",
          "text": [
            "0.8445\n"
          ]
        }
      ]
    }
  ]
}